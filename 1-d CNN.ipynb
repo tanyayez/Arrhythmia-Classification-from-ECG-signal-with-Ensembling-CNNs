{
 "cells": [
  {
   "cell_type": "code",
   "execution_count": 1,
   "metadata": {},
   "outputs": [],
   "source": [
    "import glob, copy, pywt\n",
    "import scipy\n",
    "import wfdb\n",
    "from sklearn import svm\n",
    "from matplotlib import pyplot as plt\n",
    "import matplotlib.patches as mpatches\n",
    "import numpy as np\n",
    "from collections import Counter\n",
    "from ecgdetectors import Detectors\n",
    "from read_data import ECGSample, ECGDataset\n",
    "import random"
   ]
  },
  {
   "cell_type": "markdown",
   "metadata": {},
   "source": [
    "# Load dataset"
   ]
  },
  {
   "cell_type": "code",
   "execution_count": 2,
   "metadata": {},
   "outputs": [],
   "source": [
    "dataset = ECGDataset()"
   ]
  },
  {
   "cell_type": "markdown",
   "metadata": {},
   "source": [
    "# Train val test split 50% 25% 25%"
   ]
  },
  {
   "cell_type": "code",
   "execution_count": 240,
   "metadata": {},
   "outputs": [],
   "source": [
    "train= [ 101, 106, 108, 109, 112, 114, 115, 116, 118, 119, 122, 124, 201, 203, 205, 207, 208, 209, 215, 220, 223, 230]\n",
    "test_val = [100, 103, 105, 111, 113, 117, 121, 123, 200, 202, 210, 212, 213, 214, 219, 221, 222, 228, 231, 232, 233, 234]\n",
    "\n",
    "random.shuffle(test_val)\n",
    "test, val = test_val[:len(test_val)//2], test_val[len(test_val)//2:]"
   ]
  },
  {
   "cell_type": "code",
   "execution_count": 301,
   "metadata": {},
   "outputs": [
    {
     "name": "stdout",
     "output_type": "stream",
     "text": [
      "45814\n",
      "976\n",
      "3788\n",
      "414\n",
      "8\n"
     ]
    }
   ],
   "source": [
    "print(sum(train_y == 1))\n",
    "print(sum(train_y == 2))\n",
    "print(sum(train_y == 3))\n",
    "print(sum(train_y == 4))\n",
    "print(sum(train_y == 5))"
   ]
  },
  {
   "cell_type": "code",
   "execution_count": 241,
   "metadata": {},
   "outputs": [
    {
     "name": "stdout",
     "output_type": "stream",
     "text": [
      "(51000, 70)\n",
      "(51000,)\n",
      "(24614, 70)\n",
      "(24614,)\n",
      "(25077, 70)\n",
      "(25077,)\n"
     ]
    }
   ],
   "source": [
    "train_x, train_y, test_x, test_y, val_x, val_y = dataset.get_train_test_sets(train, test, val)\n",
    "print(train_x.shape)\n",
    "print(train_y.shape)\n",
    "print(test_x.shape)\n",
    "print(test_y.shape)\n",
    "print(val_x.shape)\n",
    "print(val_y.shape)"
   ]
  },
  {
   "cell_type": "markdown",
   "metadata": {},
   "source": [
    "# Downsample majority class"
   ]
  },
  {
   "cell_type": "code",
   "execution_count": 311,
   "metadata": {},
   "outputs": [
    {
     "data": {
      "text/plain": [
       "1    4581\n",
       "3    3788\n",
       "2     976\n",
       "4     414\n",
       "5       8\n",
       "Name: y, dtype: int64"
      ]
     },
     "execution_count": 311,
     "metadata": {},
     "output_type": "execute_result"
    }
   ],
   "source": [
    "from sklearn.utils import resample\n",
    "\n",
    "df_train = pd.DataFrame(train_x)\n",
    "df_train['y'] = train_y\n",
    "\n",
    "df_majority = df[df.y==1]\n",
    "df_minority = df[df.y!=1]\n",
    " \n",
    "# Downsample majority class\n",
    "df_majority_downsampled = resample(df_majority, \n",
    "                                 replace=False,    # sample without replacement\n",
    "                                 n_samples=sum(train_y == 1)//10,     # to match minority class\n",
    "                                 random_state=123) # reproducible results\n",
    " \n",
    "# Combine minority class with downsampled majority class\n",
    "df_downsampled = pd.concat([df_majority_downsampled, df_minority])\n",
    " \n",
    "# Display new class counts\n",
    "df_downsampled.y.value_counts()"
   ]
  },
  {
   "cell_type": "code",
   "execution_count": 326,
   "metadata": {},
   "outputs": [],
   "source": [
    "from sklearn import preprocessing\n",
    "c= np.array(df_downsampled.drop(['y'], axis = 1))\n",
    "X_train_cnn = np.reshape(c, (c.shape[0], c.shape[1], 1), \"A\")\n",
    "Y_train_cnn = preprocessing.label_binarize(np.array(df_downsampled.y), [1, 2, 3, 4, 5])\n",
    "\n",
    "\n",
    "X_val_cnn = np.reshape(val_x, (val_x.shape[0], val_x.shape[1], 1), \"A\")\n",
    "X_test_cnn = np.reshape(test_x, (test_x.shape[0], test_x.shape[1], 1), \"A\")\n",
    "\n",
    "\n",
    "Y_val_cnn = preprocessing.label_binarize(val_y, [1, 2, 3, 4, 5])\n",
    "Y_test_cnn = preprocessing.label_binarize(test_y, [1, 2, 3, 4, 5])"
   ]
  },
  {
   "cell_type": "markdown",
   "metadata": {},
   "source": [
    "# Build 1D CNN \n"
   ]
  },
  {
   "cell_type": "code",
   "execution_count": 328,
   "metadata": {},
   "outputs": [],
   "source": [
    "from keras.layers import Conv1D, Dense, Flatten, Dropout,MaxPooling1D\n",
    "from keras.models import Sequential\n",
    "from keras.utils import to_categorical\n",
    "import keras"
   ]
  },
  {
   "cell_type": "code",
   "execution_count": 329,
   "metadata": {},
   "outputs": [],
   "source": [
    "model = Sequential()\n",
    "model.add(Conv1D(filters = 128, kernel_size = 7, activation = \"relu\", input_shape = (70, 1)))\n",
    "model.add(MaxPooling1D(2))\n",
    "model.add(Dropout(rate= 0.30))\n",
    "model.add(Conv1D(filters = 64, kernel_size = 5, activation = \"relu\"))\n",
    "model.add(MaxPooling1D(2))\n",
    "model.add(Dropout(rate= 0.30))\n",
    "model.add(Flatten())\n",
    "model.add(Dense(128, activation = 'relu'))\n",
    "model.add(Dense(5, activation = 'sigmoid'))\n",
    "\n",
    "model.compile(loss = 'categorical_crossentropy', optimizer = \"adam\", metrics = [\"accuracy\", keras.metrics.AUC()])"
   ]
  },
  {
   "cell_type": "code",
   "execution_count": 330,
   "metadata": {},
   "outputs": [
    {
     "name": "stdout",
     "output_type": "stream",
     "text": [
      "Model: \"sequential_15\"\n",
      "_________________________________________________________________\n",
      "Layer (type)                 Output Shape              Param #   \n",
      "=================================================================\n",
      "conv1d_17 (Conv1D)           (None, 64, 128)           1024      \n",
      "_________________________________________________________________\n",
      "max_pooling1d_16 (MaxPooling (None, 32, 128)           0         \n",
      "_________________________________________________________________\n",
      "dropout_21 (Dropout)         (None, 32, 128)           0         \n",
      "_________________________________________________________________\n",
      "conv1d_18 (Conv1D)           (None, 28, 64)            41024     \n",
      "_________________________________________________________________\n",
      "max_pooling1d_17 (MaxPooling (None, 14, 64)            0         \n",
      "_________________________________________________________________\n",
      "dropout_22 (Dropout)         (None, 14, 64)            0         \n",
      "_________________________________________________________________\n",
      "flatten_10 (Flatten)         (None, 896)               0         \n",
      "_________________________________________________________________\n",
      "dense_23 (Dense)             (None, 128)               114816    \n",
      "_________________________________________________________________\n",
      "dense_24 (Dense)             (None, 5)                 645       \n",
      "=================================================================\n",
      "Total params: 157,509\n",
      "Trainable params: 157,509\n",
      "Non-trainable params: 0\n",
      "_________________________________________________________________\n"
     ]
    }
   ],
   "source": [
    "model.summary()"
   ]
  },
  {
   "cell_type": "code",
   "execution_count": 331,
   "metadata": {
    "scrolled": true
   },
   "outputs": [
    {
     "name": "stdout",
     "output_type": "stream",
     "text": [
      "Train on 9767 samples, validate on 25077 samples\n",
      "Epoch 1/20\n",
      "9767/9767 [==============================] - 15s 2ms/step - loss: 0.5810 - accuracy: 0.7822 - auc_5: 0.8901 - val_loss: 0.6426 - val_accuracy: 0.7460 - val_auc_5: 0.8977\n",
      "Epoch 2/20\n",
      "9767/9767 [==============================] - 14s 1ms/step - loss: 0.3101 - accuracy: 0.9024 - auc_5: 0.9411 - val_loss: 0.7180 - val_accuracy: 0.8157 - val_auc_5: 0.8758\n",
      "Epoch 3/20\n",
      "9767/9767 [==============================] - 15s 2ms/step - loss: 0.2304 - accuracy: 0.9320 - auc_5: 0.9510 - val_loss: 1.0685 - val_accuracy: 0.6082 - val_auc_5: 0.8302\n",
      "Epoch 4/20\n",
      "9767/9767 [==============================] - 15s 2ms/step - loss: 0.1935 - accuracy: 0.9420 - auc_5: 0.9534 - val_loss: 0.7106 - val_accuracy: 0.7877 - val_auc_5: 0.8661\n",
      "Epoch 5/20\n",
      "9767/9767 [==============================] - 15s 1ms/step - loss: 0.1574 - accuracy: 0.9504 - auc_5: 0.9565 - val_loss: 0.8872 - val_accuracy: 0.7481 - val_auc_5: 0.8254\n",
      "Epoch 6/20\n",
      "9767/9767 [==============================] - 14s 1ms/step - loss: 0.1443 - accuracy: 0.9540 - auc_5: 0.9688 - val_loss: 0.7423 - val_accuracy: 0.8041 - val_auc_5: 0.8544\n",
      "Epoch 7/20\n",
      "9767/9767 [==============================] - 15s 2ms/step - loss: 0.1357 - accuracy: 0.9573 - auc_5: 0.9658 - val_loss: 0.6698 - val_accuracy: 0.8262 - val_auc_5: 0.8650\n",
      "Epoch 8/20\n",
      "9767/9767 [==============================] - 14s 1ms/step - loss: 0.1236 - accuracy: 0.9584 - auc_5: 0.9590 - val_loss: 0.5884 - val_accuracy: 0.8561 - val_auc_5: 0.9114\n",
      "Epoch 9/20\n",
      "9767/9767 [==============================] - 15s 1ms/step - loss: 0.1104 - accuracy: 0.9654 - auc_5: 0.9663 - val_loss: 0.8864 - val_accuracy: 0.7323 - val_auc_5: 0.8373\n",
      "Epoch 10/20\n",
      "9767/9767 [==============================] - 14s 1ms/step - loss: 0.1057 - accuracy: 0.9634 - auc_5: 0.9676 - val_loss: 0.9213 - val_accuracy: 0.7484 - val_auc_5: 0.8407\n",
      "Epoch 11/20\n",
      "9767/9767 [==============================] - 15s 2ms/step - loss: 0.0967 - accuracy: 0.9675 - auc_5: 0.9645 - val_loss: 1.0522 - val_accuracy: 0.7465 - val_auc_5: 0.8228\n",
      "Epoch 12/20\n",
      "9767/9767 [==============================] - 14s 1ms/step - loss: 0.0995 - accuracy: 0.9683 - auc_5: 0.9635 - val_loss: 1.0998 - val_accuracy: 0.7065 - val_auc_5: 0.8003\n",
      "Epoch 13/20\n",
      "9767/9767 [==============================] - 14s 1ms/step - loss: 0.0877 - accuracy: 0.9708 - auc_5: 0.9598 - val_loss: 0.8028 - val_accuracy: 0.7727 - val_auc_5: 0.8225\n",
      "Epoch 14/20\n",
      "9767/9767 [==============================] - 14s 1ms/step - loss: 0.0825 - accuracy: 0.9710 - auc_5: 0.9673 - val_loss: 1.0225 - val_accuracy: 0.7350 - val_auc_5: 0.8210\n",
      "Epoch 15/20\n",
      "9767/9767 [==============================] - 14s 1ms/step - loss: 0.0863 - accuracy: 0.9723 - auc_5: 0.9694 - val_loss: 0.9782 - val_accuracy: 0.6760 - val_auc_5: 0.7944\n",
      "Epoch 16/20\n",
      "9767/9767 [==============================] - 15s 1ms/step - loss: 0.0795 - accuracy: 0.9739 - auc_5: 0.9657 - val_loss: 1.0229 - val_accuracy: 0.7453 - val_auc_5: 0.8305\n",
      "Epoch 17/20\n",
      "9767/9767 [==============================] - 14s 1ms/step - loss: 0.0706 - accuracy: 0.9760 - auc_5: 0.9717 - val_loss: 1.0570 - val_accuracy: 0.7244 - val_auc_5: 0.8151\n",
      "Epoch 18/20\n",
      "9767/9767 [==============================] - 14s 1ms/step - loss: 0.0712 - accuracy: 0.9737 - auc_5: 0.9627 - val_loss: 1.1579 - val_accuracy: 0.6627 - val_auc_5: 0.8030\n",
      "Epoch 19/20\n",
      "9767/9767 [==============================] - 14s 1ms/step - loss: 0.0744 - accuracy: 0.9748 - auc_5: 0.9632 - val_loss: 1.3068 - val_accuracy: 0.7073 - val_auc_5: 0.8183\n",
      "Epoch 20/20\n",
      "9767/9767 [==============================] - 15s 2ms/step - loss: 0.0608 - accuracy: 0.9791 - auc_5: 0.9705 - val_loss: 1.3702 - val_accuracy: 0.6266 - val_auc_5: 0.7681\n"
     ]
    }
   ],
   "source": [
    "history = model.fit(X_train_cnn, Y_train_cnn, batch_size = 32, epochs=20, validation_data = (X_val_cnn, Y_val_cnn))"
   ]
  },
  {
   "cell_type": "code",
   "execution_count": 332,
   "metadata": {},
   "outputs": [
    {
     "name": "stdout",
     "output_type": "stream",
     "text": [
      "{'val_loss': [0.6425930522045041, 0.7180189878600002, 1.0685120732763973, 0.7105583600097812, 0.8872164389016496, 0.742283603837373, 0.6697825258138375, 0.5884027393227291, 0.8863971907697904, 0.9212601743712839, 1.052173500203479, 1.0998005749896254, 0.8027574354673513, 1.0225240619482014, 0.9781606889109582, 1.0229375285465683, 1.0570260240950184, 1.1579190894175637, 1.306781819545454, 1.3701684868346131], 'val_accuracy': [0.7459823489189148, 0.8156876564025879, 0.6082067489624023, 0.7876939177513123, 0.7480559945106506, 0.8040834069252014, 0.8262152671813965, 0.8560832738876343, 0.732344388961792, 0.7484148740768433, 0.7464609146118164, 0.7065039873123169, 0.7727399468421936, 0.7350161671638489, 0.6759580373764038, 0.7452645897865295, 0.7244486808776855, 0.6626789569854736, 0.7072616219520569, 0.6265501976013184], 'val_auc_5': [0.897722065448761, 0.875762939453125, 0.8302280306816101, 0.8660992980003357, 0.825438916683197, 0.8543512225151062, 0.8649938702583313, 0.9113531112670898, 0.8373045325279236, 0.8407298922538757, 0.8227803111076355, 0.8003219962120056, 0.8224611878395081, 0.8210240006446838, 0.7943570613861084, 0.8305492997169495, 0.8150620460510254, 0.802992582321167, 0.8183202147483826, 0.7680686116218567], 'loss': [0.5809504490182089, 0.3100927109120934, 0.23044930910782205, 0.19348844666740747, 0.1574050762263513, 0.14426566377546082, 0.1356603822099611, 0.12364859546908409, 0.11039640392611907, 0.10570368283637363, 0.09673891223172204, 0.09945558192022659, 0.08771674602833231, 0.08250047374281011, 0.08633692317137706, 0.07945339523905758, 0.07059010575134797, 0.07123103269375956, 0.07442507670691298, 0.060754598433891215], 'accuracy': [0.78222585, 0.90242654, 0.93201596, 0.94204974, 0.95044535, 0.95402884, 0.9573052, 0.9584315, 0.96539366, 0.96344835, 0.9675438, 0.96826047, 0.9708201, 0.9710249, 0.9722535, 0.9738917, 0.9760418, 0.97368693, 0.97481316, 0.97911334], 'auc_5': [0.89011604, 0.94111717, 0.95095354, 0.9533868, 0.9564702, 0.96882254, 0.9657501, 0.9590248, 0.9662941, 0.9676355, 0.9645292, 0.96352243, 0.95984674, 0.96728456, 0.96941096, 0.9656948, 0.97168523, 0.9627058, 0.9632284, 0.97052294]}\n"
     ]
    }
   ],
   "source": [
    "print(history.history)"
   ]
  },
  {
   "cell_type": "code",
   "execution_count": 333,
   "metadata": {},
   "outputs": [
    {
     "data": {
      "text/plain": [
       "[<matplotlib.lines.Line2D at 0x1c53f29b588>]"
      ]
     },
     "execution_count": 333,
     "metadata": {},
     "output_type": "execute_result"
    },
    {
     "data": {
      "image/png": "[encoded data removed]",
      "text/plain": [
       "<Figure size 432x288 with 1 Axes>"
      ]
     },
     "metadata": {
      "needs_background": "light"
     },
     "output_type": "display_data"
    }
   ],
   "source": [
    "plt.plot(history.history[\"loss\"])\n",
    "plt.plot(history.history[\"val_loss\"])"
   ]
  },
  {
   "cell_type": "code",
   "execution_count": 334,
   "metadata": {},
   "outputs": [],
   "source": [
    "y_pred_probab = model.predict(X_test_cnn)"
   ]
  },
  {
   "cell_type": "code",
   "execution_count": 335,
   "metadata": {},
   "outputs": [],
   "source": [
    "y_pred = np.argmax(y_pred_probab, axis = 1)"
   ]
  },
  {
   "cell_type": "code",
   "execution_count": 336,
   "metadata": {},
   "outputs": [
    {
     "data": {
      "text/plain": [
       "4"
      ]
     },
     "execution_count": 336,
     "metadata": {},
     "output_type": "execute_result"
    }
   ],
   "source": [
    "max(y_pred+1)"
   ]
  },
  {
   "cell_type": "code",
   "execution_count": 337,
   "metadata": {},
   "outputs": [
    {
     "data": {
      "text/plain": [
       "array([[1, 0, 0, 0, 0],\n",
       "       [1, 0, 0, 0, 0],\n",
       "       [1, 0, 0, 0, 0],\n",
       "       ...,\n",
       "       [0, 0, 1, 0, 0],\n",
       "       [1, 0, 0, 0, 0],\n",
       "       [1, 0, 0, 0, 0]])"
      ]
     },
     "execution_count": 337,
     "metadata": {},
     "output_type": "execute_result"
    }
   ],
   "source": [
    "Y_test_cnn"
   ]
  },
  {
   "cell_type": "code",
   "execution_count": 338,
   "metadata": {},
   "outputs": [],
   "source": [
    "from  sklearn.metrics import confusion_matrix\n",
    "\n",
    "cm = confusion_matrix(test_y, y_pred+1)"
   ]
  },
  {
   "cell_type": "code",
   "execution_count": 339,
   "metadata": {},
   "outputs": [
    {
     "data": {
      "text/plain": [
       "<matplotlib.axes._subplots.AxesSubplot at 0x1c50100cd48>"
      ]
     },
     "execution_count": 339,
     "metadata": {},
     "output_type": "execute_result"
    },
    {
     "data": {
      "image/png": "[encoded data removed]",
      "text/plain": [
       "<Figure size 720x504 with 2 Axes>"
      ]
     },
     "metadata": {
      "needs_background": "light"
     },
     "output_type": "display_data"
    }
   ],
   "source": [
    "import seaborn as sn\n",
    "import pandas as pd\n",
    "import matplotlib.pyplot as plt\n",
    "df_cm = pd.DataFrame(cm, index = [i for i in \"12345\"],\n",
    "                  columns = [i for i in \"12345\"])\n",
    "plt.figure(figsize = (10,7))\n",
    "sn.heatmap(df_cm, annot=True, annot_kws={\"size\": 8})"
   ]
  },
  {
   "cell_type": "code",
   "execution_count": 293,
   "metadata": {},
   "outputs": [
    {
     "data": {
      "text/plain": [
       "array([[16950,   152,  3113,  1379,     2],\n",
       "       [  439,    33,     9,     3,     0],\n",
       "       [  203,    44,  2247,    14,     0],\n",
       "       [   12,     2,     8,     2,     0],\n",
       "       [    0,     0,     2,     0,     0]], dtype=int64)"
      ]
     },
     "execution_count": 293,
     "metadata": {},
     "output_type": "execute_result"
    }
   ],
   "source": [
    "cm"
   ]
  },
  {
   "cell_type": "code",
   "execution_count": null,
   "metadata": {},
   "outputs": [],
   "source": []
  }
 ],
 "metadata": {
  "kernelspec": {
   "display_name": "Python (myenv)",
   "language": "python",
   "name": "genenv"
  },
  "language_info": {
   "codemirror_mode": {
    "name": "ipython",
    "version": 3
   },
   "file_extension": ".py",
   "mimetype": "text/x-python",
   "name": "python",
   "nbconvert_exporter": "python",
   "pygments_lexer": "ipython3",
   "version": "3.7.5"
  }
 },
 "nbformat": 4,
 "nbformat_minor": 2
}
