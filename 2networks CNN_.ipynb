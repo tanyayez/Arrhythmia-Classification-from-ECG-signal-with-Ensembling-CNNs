{
 "cells": [
  {
   "cell_type": "code",
   "execution_count": 1,
   "metadata": {},
   "outputs": [],
   "source": [
    "import glob, copy, pywt\n",
    "import scipy\n",
    "import wfdb\n",
    "from sklearn import svm\n",
    "from matplotlib import pyplot as plt\n",
    "import matplotlib.patches as mpatches\n",
    "import numpy as np\n",
    "from collections import Counter\n",
    "from ecgdetectors import Detectors\n",
    "from read_data import ECGSample, ECGDataset\n",
    "import random"
   ]
  },
  {
   "cell_type": "markdown",
   "metadata": {},
   "source": [
    "# Load dataset"
   ]
  },
  {
   "cell_type": "code",
   "execution_count": 2,
   "metadata": {},
   "outputs": [],
   "source": [
    "dataset = ECGDataset()"
   ]
  },
  {
   "cell_type": "markdown",
   "metadata": {},
   "source": [
    "# Train val test split 50% 25% 25%"
   ]
  },
  {
   "cell_type": "code",
   "execution_count": 3,
   "metadata": {},
   "outputs": [],
   "source": [
    "train= [ 101, 106, 108, 109, 112, 114, 115, 116, 118, 119, 122, 124, 201, 203, 205, 207, 208, 209, 215, 220, 223, 230]\n",
    "test_val = [100, 103, 105, 111, 113, 117, 121, 123, 200, 202, 210, 212, 213, 214, 219, 221, 222, 228, 231, 232, 233, 234]\n",
    "\n",
    "random.shuffle(test_val)\n",
    "test, val = test_val[:len(test_val)//2], test_val[len(test_val)//2:]"
   ]
  },
  {
   "cell_type": "code",
   "execution_count": 340,
   "metadata": {},
   "outputs": [
    {
     "name": "stdout",
     "output_type": "stream",
     "text": [
      "(51000, 70)\n",
      "(51000,)\n",
      "(26584, 70)\n",
      "(26584,)\n",
      "(23107, 70)\n",
      "(23107,)\n"
     ]
    }
   ],
   "source": [
    "train_x, train_y, test_x, test_y, val_x, val_y = dataset.get_train_test_sets(train, test, val)\n",
    "print(train_x.shape)\n",
    "print(train_y.shape)\n",
    "print(test_x.shape)\n",
    "print(test_y.shape)\n",
    "print(val_x.shape)\n",
    "print(val_y.shape)\n",
    "\n",
    "### cahnge labels to binary 0 normal beat 1 beat with abnoramality \n",
    "\n",
    "train_y[train_y==1] = 0\n",
    "train_y[train_y!=0] = 1\n",
    "\n",
    "test_y[test_y==1] = 0\n",
    "test_y[test_y!=0] = 1\n",
    "\n",
    "val_y[val_y==1] = 0\n",
    "val_y[val_y!=0] = 1"
   ]
  },
  {
   "cell_type": "code",
   "execution_count": 341,
   "metadata": {},
   "outputs": [
    {
     "name": "stdout",
     "output_type": "stream",
     "text": [
      "5186\n",
      "0\n",
      "0\n",
      "0\n",
      "45814\n"
     ]
    }
   ],
   "source": [
    "print(sum(train_y == 1))\n",
    "print(sum(train_y == 2))\n",
    "print(sum(train_y == 3))\n",
    "print(sum(train_y == 4))\n",
    "print(sum(train_y == 0))"
   ]
  },
  {
   "cell_type": "code",
   "execution_count": 342,
   "metadata": {},
   "outputs": [
    {
     "data": {
      "text/plain": [
       "20477"
      ]
     },
     "execution_count": 342,
     "metadata": {},
     "output_type": "execute_result"
    }
   ],
   "source": [
    "sum(val_y==0)"
   ]
  },
  {
   "cell_type": "markdown",
   "metadata": {},
   "source": [
    "# Downsample majority class"
   ]
  },
  {
   "cell_type": "code",
   "execution_count": 186,
   "metadata": {},
   "outputs": [
    {
     "data": {
      "text/plain": [
       "0    45814\n",
       "1     5186\n",
       "Name: y, dtype: int64"
      ]
     },
     "execution_count": 186,
     "metadata": {},
     "output_type": "execute_result"
    }
   ],
   "source": [
    "from sklearn.utils import resample\n",
    "import pandas as pd\n",
    "\n",
    "df_train = pd.DataFrame(train_x)\n",
    "df_train['y'] = train_y\n",
    "\n",
    "df_majority = df_train[df_train.y==0]\n",
    "df_minority = df_train[df_train.y!=0]\n",
    " \n",
    "# Downsample majority class\n",
    "df_majority_downsampled = resample(df_majority, \n",
    "                                 replace=False,    # sample without replacement\n",
    "                                 n_samples=sum(train_y == 0),     # to match minority class\n",
    "                                 random_state=123) # reproducible results\n",
    " \n",
    "# Combine minority class with downsampled majority class\n",
    "df_downsampled = pd.concat([df_majority_downsampled, df_minority])\n",
    " \n",
    "# Display new class counts\n",
    "df_downsampled.y.value_counts()"
   ]
  },
  {
   "cell_type": "code",
   "execution_count": 343,
   "metadata": {},
   "outputs": [],
   "source": [
    "from sklearn import preprocessing\n",
    "#c= np.array(df_downsampled.drop(['y'], axis = 1))\n",
    "X_train_cnn = np.reshape(train_x, (train_x.shape[0], train_x.shape[1], 1), \"A\")\n",
    "Y_train_cnn = np.array(train_y)\n",
    "#preprocessing.label_binarize(np.array(train_y), [1, 2, 3, 4, 5])\n",
    "\n",
    "\n",
    "X_val_cnn = np.reshape(val_x, (val_x.shape[0], val_x.shape[1], 1), \"A\")\n",
    "X_test_cnn = np.reshape(test_x, (test_x.shape[0], test_x.shape[1], 1), \"A\")\n",
    "\n",
    "\n",
    "Y_val_cnn = val_y\n",
    "#preprocessing.label_binarize(val_y, [1, 2, 3, 4, 5])\n",
    "Y_test_cnn = test_y\n",
    "#preprocessing.label_binarize(test_y, [1, 2, 3, 4, 5])"
   ]
  },
  {
   "cell_type": "code",
   "execution_count": 295,
   "metadata": {},
   "outputs": [
    {
     "data": {
      "text/plain": [
       "SVC(C=1.0, break_ties=False, cache_size=200,\n",
       "    class_weight={0: 1.1131968393940717, 1: 9.834168916313152}, coef0=0.0,\n",
       "    decision_function_shape='ovr', degree=3, gamma='auto', kernel='rbf',\n",
       "    max_iter=-1, probability=False, random_state=None, shrinking=True,\n",
       "    tol=0.001, verbose=False)"
      ]
     },
     "execution_count": 295,
     "metadata": {},
     "output_type": "execute_result"
    }
   ],
   "source": [
    "# from sklearn import svm\n",
    "\n",
    "# class_weights = {}\n",
    "# for c in range(2):\n",
    "#     class_weights.update({c:len(Y_train_cnn) / float(np.count_nonzero(Y_train_cnn == c))})\n",
    "    \n",
    "# clf = svm.SVC(kernel='rbf', degree=3, gamma='auto', \n",
    "#                     coef0=0.0, shrinking=True,  tol=0.001, \n",
    "#                     cache_size=200, class_weight=class_weights, verbose=False, \n",
    "#                     max_iter=-1, random_state=None)\n",
    "# clf.fit(X_train_cnn, Y_train_cnn)"
   ]
  },
  {
   "cell_type": "code",
   "execution_count": 296,
   "metadata": {},
   "outputs": [
    {
     "data": {
      "text/plain": [
       "0.7446620112293977"
      ]
     },
     "execution_count": 296,
     "metadata": {},
     "output_type": "execute_result"
    }
   ],
   "source": [
    "# clf.score(np.concatenate((X_val_cnn, X_test_cnn), axis=0), np.concatenate((Y_val_cnn, Y_test_cnn), axis=0)) "
   ]
  },
  {
   "cell_type": "markdown",
   "metadata": {},
   "source": [
    "# Build 1D CNN for binary classification\n"
   ]
  },
  {
   "cell_type": "code",
   "execution_count": 344,
   "metadata": {},
   "outputs": [],
   "source": [
    "from keras.layers import Conv1D, Dense, Flatten, Dropout,MaxPooling1D\n",
    "from keras.models import Sequential\n",
    "from keras.utils import to_categorical\n",
    "import keras"
   ]
  },
  {
   "cell_type": "code",
   "execution_count": 387,
   "metadata": {},
   "outputs": [],
   "source": [
    "model = Sequential()\n",
    "model.add(Conv1D(filters = 128, kernel_size = 7, activation = \"relu\", input_shape = (70, 1)))\n",
    "model.add(MaxPooling1D(2))\n",
    "model.add(Dropout(rate= 0.5))\n",
    "model.add(Conv1D(filters = 64, kernel_size = 5, activation = \"relu\"))\n",
    "model.add(MaxPooling1D(2))\n",
    "model.add(Dropout(rate= 0.50))\n",
    "model.add(Flatten())\n",
    "model.add(Dense(128, activation = 'relu'))\n",
    "model.add(Dense(1, activation = 'sigmoid'))\n",
    "\n",
    "model.compile(loss = 'binary_crossentropy', optimizer = \"adam\", metrics = [\"accuracy\", keras.metrics.AUC()])"
   ]
  },
  {
   "cell_type": "code",
   "execution_count": 388,
   "metadata": {},
   "outputs": [
    {
     "name": "stdout",
     "output_type": "stream",
     "text": [
      "Model: \"sequential_17\"\n",
      "_________________________________________________________________\n",
      "Layer (type)                 Output Shape              Param #   \n",
      "=================================================================\n",
      "conv1d_30 (Conv1D)           (None, 64, 128)           1024      \n",
      "_________________________________________________________________\n",
      "max_pooling1d_30 (MaxPooling (None, 32, 128)           0         \n",
      "_________________________________________________________________\n",
      "dropout_30 (Dropout)         (None, 32, 128)           0         \n",
      "_________________________________________________________________\n",
      "conv1d_31 (Conv1D)           (None, 28, 64)            41024     \n",
      "_________________________________________________________________\n",
      "max_pooling1d_31 (MaxPooling (None, 14, 64)            0         \n",
      "_________________________________________________________________\n",
      "dropout_31 (Dropout)         (None, 14, 64)            0         \n",
      "_________________________________________________________________\n",
      "flatten_17 (Flatten)         (None, 896)               0         \n",
      "_________________________________________________________________\n",
      "dense_33 (Dense)             (None, 128)               114816    \n",
      "_________________________________________________________________\n",
      "dense_34 (Dense)             (None, 1)                 129       \n",
      "=================================================================\n",
      "Total params: 156,993\n",
      "Trainable params: 156,993\n",
      "Non-trainable params: 0\n",
      "_________________________________________________________________\n"
     ]
    }
   ],
   "source": [
    "model.summary()"
   ]
  },
  {
   "cell_type": "code",
   "execution_count": 389,
   "metadata": {
    "scrolled": true
   },
   "outputs": [
    {
     "name": "stdout",
     "output_type": "stream",
     "text": [
      "Train on 51000 samples, validate on 23107 samples\n",
      "Epoch 1/5\n",
      "51000/51000 [==============================] - 40s 788us/step - loss: 0.1593 - accuracy: 0.9506 - auc_17: 0.9194 - val_loss: 0.3884 - val_accuracy: 0.8466 - val_auc_17: 0.7858\n",
      "Epoch 2/5\n",
      "51000/51000 [==============================] - 38s 737us/step - loss: 0.0795 - accuracy: 0.9767 - auc_17: 0.9758 - val_loss: 0.5658 - val_accuracy: 0.7966 - val_auc_17: 0.6746\n",
      "Epoch 3/5\n",
      "51000/51000 [==============================] - 39s 768us/step - loss: 0.0609 - accuracy: 0.9819 - auc_17: 0.9859 - val_loss: 0.4985 - val_accuracy: 0.7987 - val_auc_17: 0.7598\n",
      "Epoch 4/5\n",
      "51000/51000 [==============================] - 40s 790us/step - loss: 0.0521 - accuracy: 0.9847 - auc_17: 0.9879 - val_loss: 0.7973 - val_accuracy: 0.7507 - val_auc_17: 0.6956\n",
      "Epoch 5/5\n",
      "51000/51000 [==============================] - 35s 679us/step - loss: 0.0477 - accuracy: 0.9853 - auc_17: 0.9910 - val_loss: 0.6846 - val_accuracy: 0.7560 - val_auc_17: 0.7834\n"
     ]
    }
   ],
   "source": [
    "history = model.fit(X_train_cnn, Y_train_cnn, batch_size = 64, epochs=5, validation_data = (X_val_cnn, Y_val_cnn))"
   ]
  },
  {
   "cell_type": "code",
   "execution_count": 390,
   "metadata": {},
   "outputs": [
    {
     "name": "stdout",
     "output_type": "stream",
     "text": [
      "{'val_loss': [0.3884255517908216, 0.5657629082824586, 0.4985454670192775, 0.7972731325178793, 0.6846100333209909], 'val_accuracy': [0.8465833067893982, 0.7966417074203491, 0.7987189888954163, 0.7507249116897583, 0.7560479640960693], 'val_auc_17': [0.7857695817947388, 0.6746392846107483, 0.7597654461860657, 0.6955785155296326, 0.783390462398529], 'loss': [0.15930805082765281, 0.07949398707554621, 0.06090164310675041, 0.05208013172827515, 0.04766402109274093], 'accuracy': [0.9505686, 0.9766667, 0.9818627, 0.98470587, 0.9853137], 'auc_17': [0.9194433, 0.97578293, 0.985912, 0.98787004, 0.9909648]}\n"
     ]
    }
   ],
   "source": [
    "print(history.history)"
   ]
  },
  {
   "cell_type": "code",
   "execution_count": 391,
   "metadata": {},
   "outputs": [
    {
     "data": {
      "text/plain": [
       "[<matplotlib.lines.Line2D at 0x24c839f4d08>]"
      ]
     },
     "execution_count": 391,
     "metadata": {},
     "output_type": "execute_result"
    },
    {
     "data": {
      "image/png": "[encoded data removed]",
      "text/plain": [
       "<Figure size 432x288 with 1 Axes>"
      ]
     },
     "metadata": {
      "needs_background": "light"
     },
     "output_type": "display_data"
    }
   ],
   "source": [
    "plt.plot(history.history[\"loss\"])\n",
    "plt.plot(history.history[\"val_loss\"])"
   ]
  },
  {
   "cell_type": "code",
   "execution_count": 392,
   "metadata": {},
   "outputs": [],
   "source": [
    "y_pred_probab = model.predict(X_test_cnn)"
   ]
  },
  {
   "cell_type": "code",
   "execution_count": 393,
   "metadata": {},
   "outputs": [
    {
     "data": {
      "text/plain": [
       "(26584, 1)"
      ]
     },
     "execution_count": 393,
     "metadata": {},
     "output_type": "execute_result"
    }
   ],
   "source": [
    "y_pred_probab.shape"
   ]
  },
  {
   "cell_type": "code",
   "execution_count": 394,
   "metadata": {},
   "outputs": [
    {
     "data": {
      "text/plain": [
       "(26584,)"
      ]
     },
     "execution_count": 394,
     "metadata": {},
     "output_type": "execute_result"
    }
   ],
   "source": [
    "Y_test_cnn.shape"
   ]
  },
  {
   "cell_type": "code",
   "execution_count": 395,
   "metadata": {},
   "outputs": [],
   "source": [
    "y_pred_probab[y_pred_probab>0.9]=1\n",
    "y_pred_probab[y_pred_probab<=0.9]=0"
   ]
  },
  {
   "cell_type": "code",
   "execution_count": 396,
   "metadata": {},
   "outputs": [
    {
     "data": {
      "text/plain": [
       "26584"
      ]
     },
     "execution_count": 396,
     "metadata": {},
     "output_type": "execute_result"
    }
   ],
   "source": [
    "len(y_pred_probab)"
   ]
  },
  {
   "cell_type": "code",
   "execution_count": 404,
   "metadata": {},
   "outputs": [],
   "source": [
    "from  sklearn.metrics import confusion_matrix, accuracy_score, roc_auc_score\n",
    "\n",
    "cm = confusion_matrix(Y_test_cnn, y_pred_probab)"
   ]
  },
  {
   "cell_type": "code",
   "execution_count": 405,
   "metadata": {},
   "outputs": [
    {
     "data": {
      "text/plain": [
       "array([[22981,   568],\n",
       "       [  958,  2077]], dtype=int64)"
      ]
     },
     "execution_count": 405,
     "metadata": {},
     "output_type": "execute_result"
    }
   ],
   "source": [
    "cm"
   ]
  },
  {
   "cell_type": "code",
   "execution_count": 406,
   "metadata": {},
   "outputs": [
    {
     "data": {
      "text/plain": [
       "0.9425970508576588"
      ]
     },
     "execution_count": 406,
     "metadata": {},
     "output_type": "execute_result"
    }
   ],
   "source": [
    "accuracy_score(Y_test_cnn, y_pred_probab)"
   ]
  },
  {
   "cell_type": "code",
   "execution_count": 407,
   "metadata": {},
   "outputs": [
    {
     "data": {
      "text/plain": [
       "0.8301146692413162"
      ]
     },
     "execution_count": 407,
     "metadata": {},
     "output_type": "execute_result"
    }
   ],
   "source": [
    "roc_auc_score(Y_test_cnn, y_pred_probab)"
   ]
  },
  {
   "cell_type": "markdown",
   "metadata": {},
   "source": [
    "# Build 2-nd CNN to classify abnormal signals"
   ]
  },
  {
   "cell_type": "code",
   "execution_count": 204,
   "metadata": {},
   "outputs": [
    {
     "name": "stdout",
     "output_type": "stream",
     "text": [
      "(51000, 70)\n",
      "(51000,)\n",
      "(26584, 70)\n",
      "(26584,)\n",
      "(23107, 70)\n",
      "(23107,)\n"
     ]
    }
   ],
   "source": [
    "train_x, train_y, test_x, test_y, val_x, val_y = dataset.get_train_test_sets(train, test, val)\n",
    "print(train_x.shape)\n",
    "print(train_y.shape)\n",
    "print(test_x.shape)\n",
    "print(test_y.shape)\n",
    "print(val_x.shape)\n",
    "print(val_y.shape)"
   ]
  },
  {
   "cell_type": "code",
   "execution_count": 208,
   "metadata": {},
   "outputs": [],
   "source": [
    "from sklearn.utils import resample\n",
    "import pandas as pd\n",
    "\n",
    "df_train = pd.DataFrame(train_x)\n",
    "df_train['y'] = train_y\n",
    "\n",
    "df_train = df_train.drop(df_train[df_train.y == 1].index)\n",
    "\n",
    "df_test = pd.DataFrame(test_x)\n",
    "df_test['y'] = test_y\n",
    "\n",
    "df_test = df_test.drop(df_test[df_test.y == 1].index)\n",
    "\n",
    "df_val = pd.DataFrame(val_x)\n",
    "df_val['y'] = val_y\n",
    "\n",
    "df_val = df_val.drop(df_val[df_val.y == 1].index)"
   ]
  },
  {
   "cell_type": "code",
   "execution_count": 226,
   "metadata": {},
   "outputs": [
    {
     "data": {
      "text/html": [
       "<div>\n",
       "<style scoped>\n",
       "    .dataframe tbody tr th:only-of-type {\n",
       "        vertical-align: middle;\n",
       "    }\n",
       "\n",
       "    .dataframe tbody tr th {\n",
       "        vertical-align: top;\n",
       "    }\n",
       "\n",
       "    .dataframe thead th {\n",
       "        text-align: right;\n",
       "    }\n",
       "</style>\n",
       "<table border=\"1\" class=\"dataframe\">\n",
       "  <thead>\n",
       "    <tr style=\"text-align: right;\">\n",
       "      <th></th>\n",
       "      <th>0</th>\n",
       "      <th>1</th>\n",
       "      <th>2</th>\n",
       "      <th>3</th>\n",
       "      <th>4</th>\n",
       "      <th>5</th>\n",
       "      <th>6</th>\n",
       "      <th>7</th>\n",
       "      <th>8</th>\n",
       "      <th>9</th>\n",
       "      <th>...</th>\n",
       "      <th>61</th>\n",
       "      <th>62</th>\n",
       "      <th>63</th>\n",
       "      <th>64</th>\n",
       "      <th>65</th>\n",
       "      <th>66</th>\n",
       "      <th>67</th>\n",
       "      <th>68</th>\n",
       "      <th>69</th>\n",
       "      <th>y</th>\n",
       "    </tr>\n",
       "  </thead>\n",
       "  <tbody>\n",
       "    <tr>\n",
       "      <th>359</th>\n",
       "      <td>-1.0825</td>\n",
       "      <td>-1.0425</td>\n",
       "      <td>-1.0625</td>\n",
       "      <td>-1.1000</td>\n",
       "      <td>-1.0700</td>\n",
       "      <td>-1.0900</td>\n",
       "      <td>-1.0925</td>\n",
       "      <td>-1.0800</td>\n",
       "      <td>-1.0550</td>\n",
       "      <td>-1.0800</td>\n",
       "      <td>...</td>\n",
       "      <td>-0.6200</td>\n",
       "      <td>-0.5200</td>\n",
       "      <td>-0.4200</td>\n",
       "      <td>-0.2975</td>\n",
       "      <td>-0.2550</td>\n",
       "      <td>-0.2375</td>\n",
       "      <td>-0.3075</td>\n",
       "      <td>-0.3600</td>\n",
       "      <td>-0.4950</td>\n",
       "      <td>5</td>\n",
       "    </tr>\n",
       "    <tr>\n",
       "      <th>419</th>\n",
       "      <td>-0.8475</td>\n",
       "      <td>-0.8550</td>\n",
       "      <td>-0.8650</td>\n",
       "      <td>-0.8500</td>\n",
       "      <td>-0.8150</td>\n",
       "      <td>-0.8150</td>\n",
       "      <td>-0.7650</td>\n",
       "      <td>-0.7200</td>\n",
       "      <td>-0.6650</td>\n",
       "      <td>-0.5875</td>\n",
       "      <td>...</td>\n",
       "      <td>-0.2100</td>\n",
       "      <td>-0.1925</td>\n",
       "      <td>-0.2075</td>\n",
       "      <td>-0.3000</td>\n",
       "      <td>-0.4200</td>\n",
       "      <td>-0.4700</td>\n",
       "      <td>-0.5300</td>\n",
       "      <td>-0.5900</td>\n",
       "      <td>-0.5850</td>\n",
       "      <td>2</td>\n",
       "    </tr>\n",
       "    <tr>\n",
       "      <th>643</th>\n",
       "      <td>-0.8300</td>\n",
       "      <td>-0.8050</td>\n",
       "      <td>-0.8200</td>\n",
       "      <td>-0.8375</td>\n",
       "      <td>-0.8125</td>\n",
       "      <td>-0.8300</td>\n",
       "      <td>-0.8300</td>\n",
       "      <td>-0.8300</td>\n",
       "      <td>-0.8325</td>\n",
       "      <td>-0.8550</td>\n",
       "      <td>...</td>\n",
       "      <td>-0.3225</td>\n",
       "      <td>-0.2525</td>\n",
       "      <td>-0.2200</td>\n",
       "      <td>-0.2050</td>\n",
       "      <td>-0.2550</td>\n",
       "      <td>-0.3800</td>\n",
       "      <td>-0.4700</td>\n",
       "      <td>-0.5600</td>\n",
       "      <td>-0.6350</td>\n",
       "      <td>2</td>\n",
       "    </tr>\n",
       "    <tr>\n",
       "      <th>898</th>\n",
       "      <td>-1.1300</td>\n",
       "      <td>-1.0700</td>\n",
       "      <td>-1.0775</td>\n",
       "      <td>-1.0775</td>\n",
       "      <td>-1.1375</td>\n",
       "      <td>-1.1150</td>\n",
       "      <td>-1.1825</td>\n",
       "      <td>-1.1375</td>\n",
       "      <td>-1.1375</td>\n",
       "      <td>-1.1450</td>\n",
       "      <td>...</td>\n",
       "      <td>-0.2475</td>\n",
       "      <td>-0.1925</td>\n",
       "      <td>-0.2600</td>\n",
       "      <td>-0.2750</td>\n",
       "      <td>-0.3400</td>\n",
       "      <td>-0.4375</td>\n",
       "      <td>-0.5725</td>\n",
       "      <td>-0.5800</td>\n",
       "      <td>-0.6075</td>\n",
       "      <td>5</td>\n",
       "    </tr>\n",
       "    <tr>\n",
       "      <th>1536</th>\n",
       "      <td>-0.1325</td>\n",
       "      <td>-0.0550</td>\n",
       "      <td>-0.0125</td>\n",
       "      <td>0.0200</td>\n",
       "      <td>-0.0300</td>\n",
       "      <td>-0.1400</td>\n",
       "      <td>-0.2325</td>\n",
       "      <td>-0.3575</td>\n",
       "      <td>-0.4550</td>\n",
       "      <td>-0.4900</td>\n",
       "      <td>...</td>\n",
       "      <td>-0.0225</td>\n",
       "      <td>-0.0250</td>\n",
       "      <td>-0.0600</td>\n",
       "      <td>-0.1950</td>\n",
       "      <td>-0.3075</td>\n",
       "      <td>-0.4025</td>\n",
       "      <td>-0.4925</td>\n",
       "      <td>-0.5150</td>\n",
       "      <td>-0.5375</td>\n",
       "      <td>2</td>\n",
       "    </tr>\n",
       "    <tr>\n",
       "      <th>...</th>\n",
       "      <td>...</td>\n",
       "      <td>...</td>\n",
       "      <td>...</td>\n",
       "      <td>...</td>\n",
       "      <td>...</td>\n",
       "      <td>...</td>\n",
       "      <td>...</td>\n",
       "      <td>...</td>\n",
       "      <td>...</td>\n",
       "      <td>...</td>\n",
       "      <td>...</td>\n",
       "      <td>...</td>\n",
       "      <td>...</td>\n",
       "      <td>...</td>\n",
       "      <td>...</td>\n",
       "      <td>...</td>\n",
       "      <td>...</td>\n",
       "      <td>...</td>\n",
       "      <td>...</td>\n",
       "      <td>...</td>\n",
       "      <td>...</td>\n",
       "    </tr>\n",
       "    <tr>\n",
       "      <th>48730</th>\n",
       "      <td>-1.3500</td>\n",
       "      <td>-1.3350</td>\n",
       "      <td>-1.3875</td>\n",
       "      <td>-1.4125</td>\n",
       "      <td>-1.4300</td>\n",
       "      <td>-1.4800</td>\n",
       "      <td>-1.5100</td>\n",
       "      <td>-1.5000</td>\n",
       "      <td>-1.5300</td>\n",
       "      <td>-1.5650</td>\n",
       "      <td>...</td>\n",
       "      <td>-0.1075</td>\n",
       "      <td>-0.1600</td>\n",
       "      <td>-0.2275</td>\n",
       "      <td>-0.3100</td>\n",
       "      <td>-0.4825</td>\n",
       "      <td>-0.6075</td>\n",
       "      <td>-0.6675</td>\n",
       "      <td>-0.7800</td>\n",
       "      <td>-0.8275</td>\n",
       "      <td>3</td>\n",
       "    </tr>\n",
       "    <tr>\n",
       "      <th>48731</th>\n",
       "      <td>-0.1075</td>\n",
       "      <td>-0.1375</td>\n",
       "      <td>-0.2150</td>\n",
       "      <td>-0.2825</td>\n",
       "      <td>-0.4325</td>\n",
       "      <td>-0.5925</td>\n",
       "      <td>-0.6450</td>\n",
       "      <td>-0.7575</td>\n",
       "      <td>-0.8175</td>\n",
       "      <td>-0.8325</td>\n",
       "      <td>...</td>\n",
       "      <td>-0.4225</td>\n",
       "      <td>-0.5950</td>\n",
       "      <td>-0.6875</td>\n",
       "      <td>-0.8075</td>\n",
       "      <td>-0.8675</td>\n",
       "      <td>-0.8750</td>\n",
       "      <td>-0.8825</td>\n",
       "      <td>-0.9300</td>\n",
       "      <td>-0.8650</td>\n",
       "      <td>3</td>\n",
       "    </tr>\n",
       "    <tr>\n",
       "      <th>48733</th>\n",
       "      <td>-1.4250</td>\n",
       "      <td>-1.4925</td>\n",
       "      <td>-1.5025</td>\n",
       "      <td>-1.5175</td>\n",
       "      <td>-1.6000</td>\n",
       "      <td>-1.6250</td>\n",
       "      <td>-1.6400</td>\n",
       "      <td>-1.6800</td>\n",
       "      <td>-1.6550</td>\n",
       "      <td>-1.6150</td>\n",
       "      <td>...</td>\n",
       "      <td>-0.0225</td>\n",
       "      <td>-0.0400</td>\n",
       "      <td>-0.1025</td>\n",
       "      <td>-0.2750</td>\n",
       "      <td>-0.3975</td>\n",
       "      <td>-0.5325</td>\n",
       "      <td>-0.6875</td>\n",
       "      <td>-0.7375</td>\n",
       "      <td>-0.7875</td>\n",
       "      <td>3</td>\n",
       "    </tr>\n",
       "    <tr>\n",
       "      <th>48734</th>\n",
       "      <td>-0.8850</td>\n",
       "      <td>-0.8725</td>\n",
       "      <td>-0.8700</td>\n",
       "      <td>-0.8925</td>\n",
       "      <td>-0.8675</td>\n",
       "      <td>-0.8925</td>\n",
       "      <td>-0.9250</td>\n",
       "      <td>-0.8975</td>\n",
       "      <td>-0.9175</td>\n",
       "      <td>-0.9425</td>\n",
       "      <td>...</td>\n",
       "      <td>-0.1400</td>\n",
       "      <td>-0.1925</td>\n",
       "      <td>-0.3300</td>\n",
       "      <td>-0.4450</td>\n",
       "      <td>-0.5900</td>\n",
       "      <td>-0.7175</td>\n",
       "      <td>-0.7625</td>\n",
       "      <td>-0.8425</td>\n",
       "      <td>-0.8750</td>\n",
       "      <td>3</td>\n",
       "    </tr>\n",
       "    <tr>\n",
       "      <th>50922</th>\n",
       "      <td>0.9825</td>\n",
       "      <td>1.2300</td>\n",
       "      <td>1.3675</td>\n",
       "      <td>1.2450</td>\n",
       "      <td>1.3200</td>\n",
       "      <td>1.1225</td>\n",
       "      <td>0.2700</td>\n",
       "      <td>-0.0800</td>\n",
       "      <td>-0.2775</td>\n",
       "      <td>-0.3825</td>\n",
       "      <td>...</td>\n",
       "      <td>-0.1775</td>\n",
       "      <td>-0.2950</td>\n",
       "      <td>-0.3550</td>\n",
       "      <td>-0.3600</td>\n",
       "      <td>-0.3375</td>\n",
       "      <td>-0.3175</td>\n",
       "      <td>-0.3100</td>\n",
       "      <td>-0.2725</td>\n",
       "      <td>-0.3325</td>\n",
       "      <td>3</td>\n",
       "    </tr>\n",
       "  </tbody>\n",
       "</table>\n",
       "<p>5186 rows × 71 columns</p>\n",
       "</div>"
      ],
      "text/plain": [
       "            0       1       2       3       4       5       6       7       8  \\\n",
       "359   -1.0825 -1.0425 -1.0625 -1.1000 -1.0700 -1.0900 -1.0925 -1.0800 -1.0550   \n",
       "419   -0.8475 -0.8550 -0.8650 -0.8500 -0.8150 -0.8150 -0.7650 -0.7200 -0.6650   \n",
       "643   -0.8300 -0.8050 -0.8200 -0.8375 -0.8125 -0.8300 -0.8300 -0.8300 -0.8325   \n",
       "898   -1.1300 -1.0700 -1.0775 -1.0775 -1.1375 -1.1150 -1.1825 -1.1375 -1.1375   \n",
       "1536  -0.1325 -0.0550 -0.0125  0.0200 -0.0300 -0.1400 -0.2325 -0.3575 -0.4550   \n",
       "...       ...     ...     ...     ...     ...     ...     ...     ...     ...   \n",
       "48730 -1.3500 -1.3350 -1.3875 -1.4125 -1.4300 -1.4800 -1.5100 -1.5000 -1.5300   \n",
       "48731 -0.1075 -0.1375 -0.2150 -0.2825 -0.4325 -0.5925 -0.6450 -0.7575 -0.8175   \n",
       "48733 -1.4250 -1.4925 -1.5025 -1.5175 -1.6000 -1.6250 -1.6400 -1.6800 -1.6550   \n",
       "48734 -0.8850 -0.8725 -0.8700 -0.8925 -0.8675 -0.8925 -0.9250 -0.8975 -0.9175   \n",
       "50922  0.9825  1.2300  1.3675  1.2450  1.3200  1.1225  0.2700 -0.0800 -0.2775   \n",
       "\n",
       "            9  ...      61      62      63      64      65      66      67  \\\n",
       "359   -1.0800  ... -0.6200 -0.5200 -0.4200 -0.2975 -0.2550 -0.2375 -0.3075   \n",
       "419   -0.5875  ... -0.2100 -0.1925 -0.2075 -0.3000 -0.4200 -0.4700 -0.5300   \n",
       "643   -0.8550  ... -0.3225 -0.2525 -0.2200 -0.2050 -0.2550 -0.3800 -0.4700   \n",
       "898   -1.1450  ... -0.2475 -0.1925 -0.2600 -0.2750 -0.3400 -0.4375 -0.5725   \n",
       "1536  -0.4900  ... -0.0225 -0.0250 -0.0600 -0.1950 -0.3075 -0.4025 -0.4925   \n",
       "...       ...  ...     ...     ...     ...     ...     ...     ...     ...   \n",
       "48730 -1.5650  ... -0.1075 -0.1600 -0.2275 -0.3100 -0.4825 -0.6075 -0.6675   \n",
       "48731 -0.8325  ... -0.4225 -0.5950 -0.6875 -0.8075 -0.8675 -0.8750 -0.8825   \n",
       "48733 -1.6150  ... -0.0225 -0.0400 -0.1025 -0.2750 -0.3975 -0.5325 -0.6875   \n",
       "48734 -0.9425  ... -0.1400 -0.1925 -0.3300 -0.4450 -0.5900 -0.7175 -0.7625   \n",
       "50922 -0.3825  ... -0.1775 -0.2950 -0.3550 -0.3600 -0.3375 -0.3175 -0.3100   \n",
       "\n",
       "           68      69  y  \n",
       "359   -0.3600 -0.4950  5  \n",
       "419   -0.5900 -0.5850  2  \n",
       "643   -0.5600 -0.6350  2  \n",
       "898   -0.5800 -0.6075  5  \n",
       "1536  -0.5150 -0.5375  2  \n",
       "...       ...     ... ..  \n",
       "48730 -0.7800 -0.8275  3  \n",
       "48731 -0.9300 -0.8650  3  \n",
       "48733 -0.7375 -0.7875  3  \n",
       "48734 -0.8425 -0.8750  3  \n",
       "50922 -0.2725 -0.3325  3  \n",
       "\n",
       "[5186 rows x 71 columns]"
      ]
     },
     "execution_count": 226,
     "metadata": {},
     "output_type": "execute_result"
    }
   ],
   "source": [
    "df_train"
   ]
  },
  {
   "cell_type": "code",
   "execution_count": 321,
   "metadata": {},
   "outputs": [],
   "source": [
    "c= np.array(df_train.drop(['y'], axis = 1))\n",
    "X_train_cnn = np.reshape(c, (c.shape[0], c.shape[1], 1), \"A\")\n",
    "Y_train_cnn = preprocessing.label_binarize(np.array(df_train.y), [2, 3, 4, 5])\n",
    "\n",
    "c= np.array(df_test.drop(['y'], axis = 1))\n",
    "X_test_cnn = np.reshape(c, (c.shape[0], c.shape[1], 1), \"A\")\n",
    "Y_test_cnn = preprocessing.label_binarize(np.array(df_test.y), [2, 3, 4, 5])\n",
    "\n",
    "c= np.array(df_val.drop(['y'], axis = 1))\n",
    "X_val_cnn = np.reshape(c, (c.shape[0], c.shape[1], 1), \"A\")\n",
    "Y_val_cnn = preprocessing.label_binarize(np.array(df_val.y), [2, 3, 4, 5])"
   ]
  },
  {
   "cell_type": "code",
   "execution_count": 322,
   "metadata": {},
   "outputs": [],
   "source": [
    "model = Sequential()\n",
    "model.add(Conv1D(filters = 128, kernel_size = 7, activation = \"relu\", input_shape = (70, 1)))\n",
    "model.add(MaxPooling1D(2))\n",
    "model.add(Dropout(rate= 0.30))\n",
    "model.add(Conv1D(filters = 64, kernel_size = 5, activation = \"relu\"))\n",
    "model.add(MaxPooling1D(2))\n",
    "model.add(Dropout(rate= 0.30))\n",
    "model.add(Flatten())\n",
    "model.add(Dense(128, activation = 'relu'))\n",
    "model.add(Dense(4, activation = 'sigmoid'))\n",
    "\n",
    "model.compile(loss = 'categorical_crossentropy', optimizer = \"adam\", metrics = [\"accuracy\", keras.metrics.AUC()])"
   ]
  },
  {
   "cell_type": "code",
   "execution_count": 329,
   "metadata": {},
   "outputs": [
    {
     "name": "stdout",
     "output_type": "stream",
     "text": [
      "Train on 5186 samples, validate on 2630 samples\n",
      "Epoch 1/5\n",
      "5186/5186 [==============================] - 5s 923us/step - loss: 0.0598 - accuracy: 0.9811 - auc_15: 0.9951 - val_loss: 0.0893 - val_accuracy: 0.9787 - val_auc_15: 0.9926\n",
      "Epoch 2/5\n",
      "5186/5186 [==============================] - 4s 864us/step - loss: 0.0516 - accuracy: 0.9817 - auc_15: 0.9960 - val_loss: 0.1238 - val_accuracy: 0.9817 - val_auc_15: 0.9899\n",
      "Epoch 3/5\n",
      "5186/5186 [==============================] - 5s 873us/step - loss: 0.0552 - accuracy: 0.9826 - auc_15: 0.9931 - val_loss: 0.1242 - val_accuracy: 0.9738 - val_auc_15: 0.9882\n",
      "Epoch 4/5\n",
      "5186/5186 [==============================] - 5s 1ms/step - loss: 0.0543 - accuracy: 0.9807 - auc_15: 0.9954 - val_loss: 0.1471 - val_accuracy: 0.9760 - val_auc_15: 0.9882\n",
      "Epoch 5/5\n",
      "5186/5186 [==============================] - 5s 1ms/step - loss: 0.0469 - accuracy: 0.9853 - auc_15: 0.9947 - val_loss: 0.1091 - val_accuracy: 0.9776 - val_auc_15: 0.9909\n"
     ]
    }
   ],
   "source": [
    "history = model.fit(X_train_cnn, Y_train_cnn, batch_size = 32, epochs=5, validation_data = (X_val_cnn, Y_val_cnn))"
   ]
  },
  {
   "cell_type": "code",
   "execution_count": 330,
   "metadata": {},
   "outputs": [
    {
     "data": {
      "text/plain": [
       "[<matplotlib.lines.Line2D at 0x24cc44db588>]"
      ]
     },
     "execution_count": 330,
     "metadata": {},
     "output_type": "execute_result"
    },
    {
     "data": {
      "image/png": "[encoded data removed]",
      "text/plain": [
       "<Figure size 432x288 with 1 Axes>"
      ]
     },
     "metadata": {
      "needs_background": "light"
     },
     "output_type": "display_data"
    }
   ],
   "source": [
    "plt.plot(history.history[\"loss\"])\n",
    "plt.plot(history.history[\"val_loss\"])"
   ]
  },
  {
   "cell_type": "code",
   "execution_count": 335,
   "metadata": {},
   "outputs": [],
   "source": [
    "y_pred_probab = model.predict(X_val_cnn)\n",
    "y_pred = np.argmax(y_pred_probab, axis = 1)+2"
   ]
  },
  {
   "cell_type": "code",
   "execution_count": 336,
   "metadata": {},
   "outputs": [],
   "source": [
    "cm = confusion_matrix(np.array(df_val.y), y_pred)"
   ]
  },
  {
   "cell_type": "code",
   "execution_count": 337,
   "metadata": {},
   "outputs": [
    {
     "data": {
      "text/plain": [
       "<matplotlib.axes._subplots.AxesSubplot at 0x24c83a15908>"
      ]
     },
     "execution_count": 337,
     "metadata": {},
     "output_type": "execute_result"
    },
    {
     "data": {
      "image/png": "[encoded data removed]",
      "text/plain": [
       "<Figure size 720x504 with 2 Axes>"
      ]
     },
     "metadata": {
      "needs_background": "light"
     },
     "output_type": "display_data"
    }
   ],
   "source": [
    "import seaborn as sn\n",
    "df_cm = pd.DataFrame(cm, index = [i for i in \"2345\"],\n",
    "                  columns = [i for i in \"2345\"])\n",
    "plt.figure(figsize = (10,7))\n",
    "sn.heatmap(df_cm, annot=True, annot_kws={\"size\": 8})"
   ]
  },
  {
   "cell_type": "code",
   "execution_count": 338,
   "metadata": {},
   "outputs": [
    {
     "data": {
      "text/plain": [
       "0.9775665399239544"
      ]
     },
     "execution_count": 338,
     "metadata": {},
     "output_type": "execute_result"
    }
   ],
   "source": [
    "accuracy_score(np.array(df_val.y), y_pred)"
   ]
  },
  {
   "cell_type": "code",
   "execution_count": 339,
   "metadata": {},
   "outputs": [
    {
     "data": {
      "text/plain": [
       "array([[1876,   13,   15,    0],\n",
       "       [  18,  695,    9,    0],\n",
       "       [   1,    1,    0,    0],\n",
       "       [   0,    2,    0,    0]], dtype=int64)"
      ]
     },
     "execution_count": 339,
     "metadata": {},
     "output_type": "execute_result"
    }
   ],
   "source": [
    "cm"
   ]
  },
  {
   "cell_type": "code",
   "execution_count": null,
   "metadata": {},
   "outputs": [],
   "source": []
  }
 ],
 "metadata": {
  "kernelspec": {
   "display_name": "Python (myenv)",
   "language": "python",
   "name": "genenv"
  },
  "language_info": {
   "codemirror_mode": {
    "name": "ipython",
    "version": 3
   },
   "file_extension": ".py",
   "mimetype": "text/x-python",
   "name": "python",
   "nbconvert_exporter": "python",
   "pygments_lexer": "ipython3",
   "version": "3.7.5"
  }
 },
 "nbformat": 4,
 "nbformat_minor": 2
}
