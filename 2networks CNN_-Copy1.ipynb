{
 "cells": [
  {
   "cell_type": "code",
   "execution_count": 1,
   "metadata": {},
   "outputs": [],
   "source": [
    "import glob, copy, pywt\n",
    "import scipy\n",
    "import wfdb\n",
    "from sklearn import svm\n",
    "from matplotlib import pyplot as plt\n",
    "import matplotlib.patches as mpatches\n",
    "import numpy as np\n",
    "from collections import Counter\n",
    "from ecgdetectors import Detectors\n",
    "from read_data import ECGSample, ECGDataset\n",
    "import random"
   ]
  },
  {
   "cell_type": "markdown",
   "metadata": {},
   "source": [
    "# Load dataset"
   ]
  },
  {
   "cell_type": "code",
   "execution_count": 2,
   "metadata": {},
   "outputs": [],
   "source": [
    "dataset = ECGDataset()"
   ]
  },
  {
   "cell_type": "markdown",
   "metadata": {},
   "source": [
    "# Train val test split 50% 25% 25%"
   ]
  },
  {
   "cell_type": "code",
   "execution_count": 3,
   "metadata": {},
   "outputs": [],
   "source": [
    "train= [ 101, 106, 108, 109, 112, 114, 115, 116, 118, 119, 122, 124, 201, 203, 205, 207, 208, 209, 215, 220, 223, 230]\n",
    "test_val = [100, 103, 105, 111, 113, 117, 121, 123, 200, 202, 210, 212, 213, 214, 219, 221, 222, 228, 231, 232, 233, 234]\n",
    "\n",
    "random.shuffle(test_val)\n",
    "test, val = test_val[:len(test_val)//2], test_val[len(test_val)//2:]"
   ]
  },
  {
   "cell_type": "code",
   "execution_count": 5,
   "metadata": {},
   "outputs": [
    {
     "name": "stdout",
     "output_type": "stream",
     "text": [
      "(51000, 70)\n",
      "(51000,)\n",
      "(26584, 70)\n",
      "(26584,)\n",
      "(23107, 70)\n",
      "(23107,)\n"
     ]
    }
   ],
   "source": [
    "train_x, train_y, test_x, test_y, val_x, val_y = dataset.get_train_test_sets(train, test, val)\n",
    "print(train_x.shape)\n",
    "print(train_y.shape)\n",
    "print(test_x.shape)\n",
    "print(test_y.shape)\n",
    "print(val_x.shape)\n",
    "print(val_y.shape)\n",
    "\n",
    "### cahnge labels to binary 0 normal beat 1 beat with abnoramality \n",
    "\n",
    "train_y[train_y==1] = 0\n",
    "train_y[train_y!=0] = 1\n",
    "\n",
    "test_y[test_y==1] = 0\n",
    "test_y[test_y!=0] = 1\n",
    "\n",
    "val_y[val_y==1] = 0\n",
    "val_y[val_y!=0] = 1"
   ]
  },
  {
   "cell_type": "code",
   "execution_count": 7,
   "metadata": {},
   "outputs": [
    {
     "name": "stdout",
     "output_type": "stream",
     "text": [
      "5186\n",
      "0\n",
      "0\n",
      "0\n",
      "45814\n"
     ]
    }
   ],
   "source": [
    "print(sum(train_y == 1))\n",
    "print(sum(train_y == 2))\n",
    "print(sum(train_y == 3))\n",
    "print(sum(train_y == 4))\n",
    "print(sum(train_y == 0))"
   ]
  },
  {
   "cell_type": "markdown",
   "metadata": {},
   "source": [
    "# Downsample majority class"
   ]
  },
  {
   "cell_type": "code",
   "execution_count": 169,
   "metadata": {},
   "outputs": [
    {
     "data": {
      "text/plain": [
       "0    9162\n",
       "1    5186\n",
       "Name: y, dtype: int64"
      ]
     },
     "execution_count": 169,
     "metadata": {},
     "output_type": "execute_result"
    }
   ],
   "source": [
    "from sklearn.utils import resample\n",
    "import pandas as pd\n",
    "\n",
    "df_train = pd.DataFrame(train_x)\n",
    "df_train['y'] = train_y\n",
    "\n",
    "df_majority = df_train[df_train.y==0]\n",
    "df_minority = df_train[df_train.y!=0]\n",
    " \n",
    "# Downsample majority class\n",
    "df_majority_downsampled = resample(df_majority, \n",
    "                                 replace=False,    # sample without replacement\n",
    "                                 n_samples=sum(train_y == 0)//5,     # to match minority class\n",
    "                                 random_state=123) # reproducible results\n",
    " \n",
    "# Combine minority class with downsampled majority class\n",
    "df_downsampled = pd.concat([df_majority_downsampled, df_minority])\n",
    " \n",
    "# Display new class counts\n",
    "df_downsampled.y.value_counts()"
   ]
  },
  {
   "cell_type": "code",
   "execution_count": 170,
   "metadata": {},
   "outputs": [],
   "source": [
    "from sklearn import preprocessing\n",
    "c= np.array(df_downsampled.drop(['y'], axis = 1))\n",
    "X_train_cnn = np.reshape(c, (c.shape[0], c.shape[1], 1), \"A\")\n",
    "Y_train_cnn = np.array(df_downsampled.y)\n",
    "#preprocessing.label_binarize(np.array(train_y), [1, 2, 3, 4, 5])\n",
    "\n",
    "\n",
    "X_val_cnn = np.reshape(val_x, (val_x.shape[0], val_x.shape[1], 1), \"A\")\n",
    "X_test_cnn = np.reshape(test_x, (test_x.shape[0], test_x.shape[1], 1), \"A\")\n",
    "\n",
    "\n",
    "Y_val_cnn = val_y\n",
    "#preprocessing.label_binarize(val_y, [1, 2, 3, 4, 5])\n",
    "Y_test_cnn = test_y\n",
    "#preprocessing.label_binarize(test_y, [1, 2, 3, 4, 5])"
   ]
  },
  {
   "cell_type": "markdown",
   "metadata": {},
   "source": [
    "# Build 1D CNN for binary classification\n"
   ]
  },
  {
   "cell_type": "code",
   "execution_count": 171,
   "metadata": {},
   "outputs": [],
   "source": [
    "from keras.layers import Conv1D, Dense, Flatten, Dropout,MaxPooling1D\n",
    "from keras.models import Sequential\n",
    "from keras.utils import to_categorical\n",
    "import keras"
   ]
  },
  {
   "cell_type": "code",
   "execution_count": 172,
   "metadata": {},
   "outputs": [],
   "source": [
    "model = Sequential()\n",
    "model.add(Conv1D(filters = 128, kernel_size = 7, activation = \"relu\", input_shape = (70, 1)))\n",
    "model.add(MaxPooling1D(2))\n",
    "model.add(Dropout(rate= 0.5))\n",
    "model.add(Conv1D(filters = 64, kernel_size = 5, activation = \"relu\"))\n",
    "model.add(MaxPooling1D(2))\n",
    "model.add(Dropout(rate= 0.50))\n",
    "model.add(Flatten())\n",
    "model.add(Dense(128, activation = 'relu'))\n",
    "model.add(Dense(1, activation = 'sigmoid'))\n",
    "\n",
    "model.compile(loss = 'binary_crossentropy', optimizer = \"adam\", metrics = [\"accuracy\", keras.metrics.AUC()])"
   ]
  },
  {
   "cell_type": "code",
   "execution_count": 173,
   "metadata": {},
   "outputs": [
    {
     "name": "stdout",
     "output_type": "stream",
     "text": [
      "Model: \"sequential_8\"\n",
      "_________________________________________________________________\n",
      "Layer (type)                 Output Shape              Param #   \n",
      "=================================================================\n",
      "conv1d_12 (Conv1D)           (None, 64, 128)           1024      \n",
      "_________________________________________________________________\n",
      "max_pooling1d_12 (MaxPooling (None, 32, 128)           0         \n",
      "_________________________________________________________________\n",
      "dropout_12 (Dropout)         (None, 32, 128)           0         \n",
      "_________________________________________________________________\n",
      "conv1d_13 (Conv1D)           (None, 28, 64)            41024     \n",
      "_________________________________________________________________\n",
      "max_pooling1d_13 (MaxPooling (None, 14, 64)            0         \n",
      "_________________________________________________________________\n",
      "dropout_13 (Dropout)         (None, 14, 64)            0         \n",
      "_________________________________________________________________\n",
      "flatten_8 (Flatten)          (None, 896)               0         \n",
      "_________________________________________________________________\n",
      "dense_15 (Dense)             (None, 128)               114816    \n",
      "_________________________________________________________________\n",
      "dense_16 (Dense)             (None, 1)                 129       \n",
      "=================================================================\n",
      "Total params: 156,993\n",
      "Trainable params: 156,993\n",
      "Non-trainable params: 0\n",
      "_________________________________________________________________\n"
     ]
    }
   ],
   "source": [
    "model.summary()"
   ]
  },
  {
   "cell_type": "code",
   "execution_count": null,
   "metadata": {
    "scrolled": true
   },
   "outputs": [
    {
     "name": "stdout",
     "output_type": "stream",
     "text": [
      "Train on 14348 samples, validate on 23107 samples\n",
      "Epoch 1/5\n",
      "14336/14348 [============================>.] - ETA: 0s - loss: 0.3618 - accuracy: 0.8526 - auc_8: 0.9003"
     ]
    }
   ],
   "source": [
    "history = model.fit(X_train_cnn, Y_train_cnn, batch_size = 32, epochs=5, validation_data = (X_val_cnn, Y_val_cnn))"
   ]
  },
  {
   "cell_type": "code",
   "execution_count": null,
   "metadata": {},
   "outputs": [],
   "source": [
    "print(history.history)"
   ]
  },
  {
   "cell_type": "code",
   "execution_count": null,
   "metadata": {},
   "outputs": [],
   "source": [
    "plt.plot(history.history[\"loss\"])\n",
    "plt.plot(history.history[\"val_loss\"])"
   ]
  },
  {
   "cell_type": "code",
   "execution_count": null,
   "metadata": {},
   "outputs": [],
   "source": [
    "y_pred_probab = model.predict(X_test_cnn)"
   ]
  },
  {
   "cell_type": "code",
   "execution_count": null,
   "metadata": {},
   "outputs": [],
   "source": [
    "y_pred_probab[y_pred_probab>0.8]=1\n",
    "y_pred_probab[y_pred_probab<=0.8]=0"
   ]
  },
  {
   "cell_type": "code",
   "execution_count": null,
   "metadata": {},
   "outputs": [],
   "source": [
    "len(y_pred_probab)"
   ]
  },
  {
   "cell_type": "code",
   "execution_count": null,
   "metadata": {},
   "outputs": [],
   "source": [
    "sum(Y_train_cnn)"
   ]
  },
  {
   "cell_type": "code",
   "execution_count": null,
   "metadata": {},
   "outputs": [],
   "source": [
    "sum(y_pred_probab==1)"
   ]
  },
  {
   "cell_type": "code",
   "execution_count": null,
   "metadata": {},
   "outputs": [],
   "source": [
    "from  sklearn.metrics import confusion_matrix, accuracy_score\n",
    "\n",
    "cm = confusion_matrix(Y_test_cnn, y_pred_probab)"
   ]
  },
  {
   "cell_type": "code",
   "execution_count": null,
   "metadata": {},
   "outputs": [],
   "source": [
    "cm"
   ]
  },
  {
   "cell_type": "code",
   "execution_count": null,
   "metadata": {},
   "outputs": [],
   "source": [
    "accuracy_score(Y_test_cnn, y_pred_probab)"
   ]
  },
  {
   "cell_type": "code",
   "execution_count": null,
   "metadata": {},
   "outputs": [],
   "source": [
    "3035/26584"
   ]
  }
 ],
 "metadata": {
  "kernelspec": {
   "display_name": "Python (myenv)",
   "language": "python",
   "name": "genenv"
  },
  "language_info": {
   "codemirror_mode": {
    "name": "ipython",
    "version": 3
   },
   "file_extension": ".py",
   "mimetype": "text/x-python",
   "name": "python",
   "nbconvert_exporter": "python",
   "pygments_lexer": "ipython3",
   "version": "3.7.5"
  }
 },
 "nbformat": 4,
 "nbformat_minor": 2
}
