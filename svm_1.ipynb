{
 "cells": [
  {
   "cell_type": "code",
   "execution_count": 1,
   "metadata": {},
   "outputs": [],
   "source": [
    "import glob, copy, pywt\n",
    "import scipy\n",
    "import wfdb\n",
    "from sklearn import svm\n",
    "from matplotlib import pyplot as plt\n",
    "import matplotlib.patches as mpatches\n",
    "import numpy as np\n",
    "from collections import Counter\n",
    "from ecgdetectors import Detectors\n",
    "from read_data import ECGSample, ECGDataset"
   ]
  },
  {
   "cell_type": "code",
   "execution_count": 2,
   "metadata": {
    "scrolled": true
   },
   "outputs": [
    {
     "name": "stdout",
     "output_type": "stream",
     "text": [
      "100\n",
      "101\n",
      "102\n",
      "103\n",
      "104\n",
      "105\n",
      "106\n",
      "107\n",
      "108\n",
      "109\n",
      "111\n",
      "112\n",
      "113\n",
      "114\n",
      "115\n",
      "116\n",
      "117\n",
      "118\n",
      "119\n",
      "121\n",
      "122\n",
      "123\n",
      "124\n",
      "200\n",
      "201\n",
      "202\n",
      "203\n",
      "205\n",
      "207\n",
      "208\n",
      "209\n",
      "210\n",
      "212\n",
      "213\n",
      "214\n",
      "215\n",
      "217\n",
      "219\n",
      "220\n",
      "221\n",
      "222\n",
      "223\n",
      "228\n",
      "230\n",
      "231\n",
      "232\n",
      "233\n",
      "234\n"
     ]
    }
   ],
   "source": [
    "dataset = ECGDataset()"
   ]
  },
  {
   "cell_type": "code",
   "execution_count": 3,
   "metadata": {},
   "outputs": [],
   "source": [
    "train= [ 101, 106, 108, 109, 112, 114, 115, 116, 118, 119, 122, 124, 201, 203, 205, 207, 208, 209, 215, 220, 223, 230]\n",
    "test = [100, 103, 105, 111, 113, 117, 121, 123, 200, 202, 210, 212, 213, 214, 219, 221, 222, 228, 231, 232, 233, 234]"
   ]
  },
  {
   "cell_type": "code",
   "execution_count": 18,
   "metadata": {
    "scrolled": true
   },
   "outputs": [
    {
     "name": "stdout",
     "output_type": "stream",
     "text": [
      "100\n",
      "(2271, 39) 2271\n",
      "101\n",
      "(1864, 39) 1864\n",
      "102\n",
      "(2186, 39) 2186\n",
      "103\n",
      "(2083, 39) 2083\n",
      "104\n",
      "(2227, 39) 2227\n",
      "105\n",
      "(2572, 39) 2572\n",
      "106\n",
      "(2027, 39) 2027\n",
      "107\n",
      "(2136, 39) 2136\n",
      "108\n",
      "(1762, 39) 1762\n",
      "109\n",
      "(2530, 39) 2530\n",
      "111\n",
      "(2124, 39) 2124\n",
      "112\n",
      "(2537, 39) 2537\n",
      "113\n",
      "(1794, 39) 1794\n",
      "114\n",
      "(1879, 39) 1879\n",
      "115\n",
      "(1952, 39) 1952\n",
      "116\n",
      "(2411, 39) 2411\n",
      "117\n",
      "(1534, 39) 1534\n",
      "118\n",
      "(2277, 39) 2277\n",
      "119\n",
      "(1987, 39) 1987\n",
      "121\n",
      "(1862, 39) 1862\n",
      "122\n",
      "(2474, 39) 2474\n",
      "123\n",
      "(1517, 39) 1517\n",
      "124\n",
      "(1618, 39) 1618\n",
      "200\n",
      "(2600, 39) 2600\n",
      "201\n",
      "(1963, 39) 1963\n",
      "202\n",
      "(2135, 39) 2135\n",
      "203\n",
      "(2979, 39) 2979\n",
      "205\n",
      "(2656, 39) 2656\n",
      "207\n",
      "(1859, 39) 1859\n",
      "208\n",
      "(2953, 39) 2953\n",
      "209\n",
      "(3005, 39) 3005\n",
      "210\n",
      "(2648, 39) 2648\n",
      "212\n",
      "(2747, 39) 2747\n",
      "213\n",
      "(3249, 39) 3249\n",
      "214\n",
      "(2260, 39) 2260\n",
      "215\n",
      "(3361, 39) 3361\n",
      "217\n",
      "(2208, 39) 2208\n",
      "219\n",
      "(2154, 39) 2154\n",
      "220\n",
      "(2046, 39) 2046\n",
      "221\n",
      "(2427, 39) 2427\n",
      "222\n",
      "(2482, 39) 2482\n",
      "223\n",
      "(2605, 39) 2605\n",
      "228\n",
      "(2053, 39) 2053\n",
      "230\n",
      "(2255, 39) 2255\n",
      "231\n",
      "(1570, 39) 1570\n",
      "232\n",
      "(1780, 39) 1780\n",
      "233\n",
      "(3077, 39) 3077\n",
      "234\n",
      "(2752, 39) 2752\n",
      "(51000, 39)\n",
      "(51000,)\n",
      "(49691, 39)\n",
      "(49691,)\n"
     ]
    }
   ],
   "source": [
    "train_x, train_y, test_x, test_y = dataset.get_train_test_sets(train, test)\n",
    "print(train_x.shape)\n",
    "print(train_y.shape)\n",
    "print(test_x.shape)\n",
    "print(test_y.shape)"
   ]
  },
  {
   "cell_type": "code",
   "execution_count": 44,
   "metadata": {},
   "outputs": [
    {
     "name": "stderr",
     "output_type": "stream",
     "text": [
      "C:\\Users\\tyeze\\AppData\\Local\\Continuum\\anaconda3\\envs\\genenv\\lib\\site-packages\\sklearn\\discriminant_analysis.py:463: ChangedBehaviorWarning: n_components cannot be larger than min(n_features, n_classes - 1). Using min(n_features, n_classes - 1) = min(39, 5 - 1) = 4 components.\n",
      "  ChangedBehaviorWarning)\n",
      "C:\\Users\\tyeze\\AppData\\Local\\Continuum\\anaconda3\\envs\\genenv\\lib\\site-packages\\sklearn\\discriminant_analysis.py:469: FutureWarning: In version 0.23, setting n_components > min(n_features, n_classes - 1) will raise a ValueError. You should set n_components to None (default), or a value smaller or equal to min(n_features, n_classes - 1).\n",
      "  warnings.warn(future_msg, FutureWarning)\n"
     ]
    }
   ],
   "source": [
    "import sklearn\n",
    "from sklearn.preprocessing import StandardScaler\n",
    "from sklearn.ensemble import GradientBoostingClassifier\n",
    "\n",
    "# from sklearn.decomposition import PCA\n",
    "# # Make an instance of the Model\n",
    "# pca = PCA(.90)\n",
    "# pca.fit(train_x)\n",
    "# tr_features_scaled = pca.transform(train_x)\n",
    "# test_features_scaled = pca.transform(test_x)\n",
    "\n",
    "from sklearn.discriminant_analysis import LinearDiscriminantAnalysis as LDA\n",
    "scaler = StandardScaler()\n",
    "scaler.fit(train_x)\n",
    "lda = LDA(n_components=5)\n",
    "tr_features_scaled = lda.fit_transform(scaler.transform(train_x), train_y)\n",
    "test_features_scaled = lda.transform(scaler.transform(test_x))\n",
    "\n",
    "# tr_features_scaled = scaler.transform(train_x)\n",
    "# test_features_scaled = scaler.transform(test_x)\n",
    "\n",
    "\n",
    "# cls = GradientBoostingClassifier(n_estimators=2000)\n",
    "# cls.fit(train_x, train_y)\n",
    "# train_score = cls.score(tr_features_scaled, train_y)\n",
    "# test_score = cls.score(test_features_scaled, test_y)\n",
    "# print(\"Train Score for the ECG dataset is about: {}\".format(train_score))\n",
    "# print(\"Test Score for the ECG dataset is about: {}\".format(test_score))"
   ]
  },
  {
   "cell_type": "code",
   "execution_count": 45,
   "metadata": {
    "scrolled": true
   },
   "outputs": [
    {
     "data": {
      "text/plain": [
       "40"
      ]
     },
     "execution_count": 45,
     "metadata": {},
     "output_type": "execute_result"
    }
   ],
   "source": [
    "sum(train_y[train_y==5])"
   ]
  },
  {
   "cell_type": "code",
   "execution_count": 39,
   "metadata": {},
   "outputs": [
    {
     "data": {
      "text/plain": [
       "SVC(C=1.0, break_ties=False, cache_size=200,\n",
       "    class_weight={1: 1.1131968393940717, 2: 52.25409836065574,\n",
       "                  3: 13.463569165786694, 4: 123.18840579710145},\n",
       "    coef0=0.0, decision_function_shape='ovr', degree=3, gamma='auto',\n",
       "    kernel='rbf', max_iter=-1, probability=False, random_state=None,\n",
       "    shrinking=True, tol=0.001, verbose=False)"
      ]
     },
     "execution_count": 39,
     "metadata": {},
     "output_type": "execute_result"
    }
   ],
   "source": [
    "class_weights = {}\n",
    "for c in range(4):\n",
    "    class_weights.update({c+1:len(train_y) / float(np.count_nonzero(train_y == c+1))})\n",
    "\n",
    "\n",
    "svm_model = sklearn.svm.SVC(kernel='rbf', degree=3, gamma='auto', \n",
    "                    coef0=0.0, shrinking=True,  tol=0.001, \n",
    "                    cache_size=200, class_weight=class_weights, verbose=False, \n",
    "                    max_iter=-1, random_state=None)\n",
    "\n",
    "svm_model.fit(tr_features_scaled, train_y) "
   ]
  },
  {
   "cell_type": "code",
   "execution_count": 40,
   "metadata": {},
   "outputs": [
    {
     "data": {
      "text/plain": [
       "0.8891372549019608"
      ]
     },
     "execution_count": 40,
     "metadata": {},
     "output_type": "execute_result"
    }
   ],
   "source": [
    "svm_model.score(tr_features_scaled, train_y) "
   ]
  },
  {
   "cell_type": "code",
   "execution_count": 41,
   "metadata": {},
   "outputs": [
    {
     "data": {
      "text/plain": [
       "0.6734418707613049"
      ]
     },
     "execution_count": 41,
     "metadata": {},
     "output_type": "execute_result"
    }
   ],
   "source": [
    "svm_model.score(test_features_scaled, test_y) "
   ]
  },
  {
   "cell_type": "code",
   "execution_count": 43,
   "metadata": {},
   "outputs": [
    {
     "data": {
      "text/plain": [
       "['svm_1_lda4_scaler.pkl']"
      ]
     },
     "execution_count": 43,
     "metadata": {},
     "output_type": "execute_result"
    }
   ],
   "source": [
    "from sklearn.externals import joblib\n",
    "# now you can save it to a file\n",
    "joblib.dump(svm_model, 'svm_1_lda4_scaler.pkl') \n",
    "# and later you can load it\n",
    "#clf = joblib.load('filename.pkl')"
   ]
  },
  {
   "cell_type": "code",
   "execution_count": null,
   "metadata": {},
   "outputs": [],
   "source": []
  }
 ],
 "metadata": {
  "kernelspec": {
   "display_name": "Python (myenv)",
   "language": "python",
   "name": "genenv"
  },
  "language_info": {
   "codemirror_mode": {
    "name": "ipython",
    "version": 3
   },
   "file_extension": ".py",
   "mimetype": "text/x-python",
   "name": "python",
   "nbconvert_exporter": "python",
   "pygments_lexer": "ipython3",
   "version": "3.7.5"
  }
 },
 "nbformat": 4,
 "nbformat_minor": 2
}
